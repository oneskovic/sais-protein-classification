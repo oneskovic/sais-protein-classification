{
 "cells": [
  {
   "cell_type": "markdown",
   "metadata": {},
   "source": [
    "# SAIS Projekat - Klasifikacija proteina\n",
    "Ognjen Nesković i Pavle Sekešan"
   ]
  },
  {
   "cell_type": "markdown",
   "metadata": {},
   "source": [
    "## Opis problema\n",
    "\n",
    "Rešavan je problem klasifikacije proteina u njihove odgovarajuće familije na osnovu sekvence aminokiselina."
   ]
  },
  {
   "cell_type": "markdown",
   "metadata": {},
   "source": [
    "### Podaci\n",
    "\n",
    "Korišćeni su podaci preuzeti iz PFAM baze podataka. Za svaki protein u korišćenim podacima izdvojen je njegov ID, sekvenca aminokiselina i kojoj proteinskoj familiji on pripada."
   ]
  },
  {
   "cell_type": "code",
   "execution_count": 3,
   "metadata": {},
   "outputs": [
    {
     "data": {
      "text/html": [
       "<div>\n",
       "<style scoped>\n",
       "    .dataframe tbody tr th:only-of-type {\n",
       "        vertical-align: middle;\n",
       "    }\n",
       "\n",
       "    .dataframe tbody tr th {\n",
       "        vertical-align: top;\n",
       "    }\n",
       "\n",
       "    .dataframe thead th {\n",
       "        text-align: right;\n",
       "    }\n",
       "</style>\n",
       "<table border=\"1\" class=\"dataframe\">\n",
       "  <thead>\n",
       "    <tr style=\"text-align: right;\">\n",
       "      <th></th>\n",
       "      <th>prot_ID</th>\n",
       "      <th>AA_sequence</th>\n",
       "      <th>prot_Pfam</th>\n",
       "    </tr>\n",
       "  </thead>\n",
       "  <tbody>\n",
       "    <tr>\n",
       "      <th>0</th>\n",
       "      <td>F7VH43_9PROT</td>\n",
       "      <td>VSDDTYQDTETLPQVTLVAETFRTGVNTKYFTNRMKLAQDSDNVIA...</td>\n",
       "      <td>PF17482</td>\n",
       "    </tr>\n",
       "    <tr>\n",
       "      <th>1</th>\n",
       "      <td>A0A0A6PH90_9GAMM</td>\n",
       "      <td>FRSLFRANKWIWLFGMMFHGALWVVLLRHLRYFTEPVWSWVVLVQP...</td>\n",
       "      <td>PF02665</td>\n",
       "    </tr>\n",
       "    <tr>\n",
       "      <th>2</th>\n",
       "      <td>A0A101IWH6_9EURY</td>\n",
       "      <td>LRRGFSTGTTAAAACKAAVLSLALGTVKEVEVRLPCGIAVRLPVDA...</td>\n",
       "      <td>PF01888</td>\n",
       "    </tr>\n",
       "    <tr>\n",
       "      <th>3</th>\n",
       "      <td>C5GL07_AJEDR</td>\n",
       "      <td>WNYGLCDCSDIGTCCLGLFCPCILYGRTQYRLNRKSDRKDPTNLLG...</td>\n",
       "      <td>PF04749</td>\n",
       "    </tr>\n",
       "    <tr>\n",
       "      <th>4</th>\n",
       "      <td>A0A0N1HSF6_LEPSE</td>\n",
       "      <td>IKHKDVDNPVSRGRCKGEVITRSKADALEMARFILKAHNDQVPPVA...</td>\n",
       "      <td>PF00639</td>\n",
       "    </tr>\n",
       "    <tr>\n",
       "      <th>...</th>\n",
       "      <td>...</td>\n",
       "      <td>...</td>\n",
       "      <td>...</td>\n",
       "    </tr>\n",
       "    <tr>\n",
       "      <th>9995</th>\n",
       "      <td>U5H1B4_USTV1</td>\n",
       "      <td>WSHGLCACLERPGLSLAAFCCPCSLWATNHSKINHLAETGMPDPSP...</td>\n",
       "      <td>PF04749</td>\n",
       "    </tr>\n",
       "    <tr>\n",
       "      <th>9996</th>\n",
       "      <td>I4YFH5_WALMC</td>\n",
       "      <td>SPNGVPVLFIPGNAGSYKQGRSIAAELAKQYYSSYGIPNSYLESQA...</td>\n",
       "      <td>PF07819</td>\n",
       "    </tr>\n",
       "    <tr>\n",
       "      <th>9997</th>\n",
       "      <td>W4V6T8_9FIRM</td>\n",
       "      <td>AKELELFLQNQKQEFLNQGILVGKFDLIVHSMGGLVARYYSASKNY...</td>\n",
       "      <td>PF07819</td>\n",
       "    </tr>\n",
       "    <tr>\n",
       "      <th>9998</th>\n",
       "      <td>A0A0F3ITW8_9PROT</td>\n",
       "      <td>LRTGWTTGACATAATRAAFEGLITGEAPDPVTITLAGGQTPAFALA...</td>\n",
       "      <td>PF01888</td>\n",
       "    </tr>\n",
       "    <tr>\n",
       "      <th>9999</th>\n",
       "      <td>A0A084WHM8_ANOSI</td>\n",
       "      <td>MKKAEGFALGCLEQHKSLNKEHLLLLKDGDFSKVDADTKCFLRCFL...</td>\n",
       "      <td>PF01395</td>\n",
       "    </tr>\n",
       "  </tbody>\n",
       "</table>\n",
       "<p>10000 rows × 3 columns</p>\n",
       "</div>"
      ],
      "text/plain": [
       "               prot_ID                                        AA_sequence  \\\n",
       "0         F7VH43_9PROT  VSDDTYQDTETLPQVTLVAETFRTGVNTKYFTNRMKLAQDSDNVIA...   \n",
       "1     A0A0A6PH90_9GAMM  FRSLFRANKWIWLFGMMFHGALWVVLLRHLRYFTEPVWSWVVLVQP...   \n",
       "2     A0A101IWH6_9EURY  LRRGFSTGTTAAAACKAAVLSLALGTVKEVEVRLPCGIAVRLPVDA...   \n",
       "3         C5GL07_AJEDR  WNYGLCDCSDIGTCCLGLFCPCILYGRTQYRLNRKSDRKDPTNLLG...   \n",
       "4     A0A0N1HSF6_LEPSE  IKHKDVDNPVSRGRCKGEVITRSKADALEMARFILKAHNDQVPPVA...   \n",
       "...                ...                                                ...   \n",
       "9995      U5H1B4_USTV1  WSHGLCACLERPGLSLAAFCCPCSLWATNHSKINHLAETGMPDPSP...   \n",
       "9996      I4YFH5_WALMC  SPNGVPVLFIPGNAGSYKQGRSIAAELAKQYYSSYGIPNSYLESQA...   \n",
       "9997      W4V6T8_9FIRM  AKELELFLQNQKQEFLNQGILVGKFDLIVHSMGGLVARYYSASKNY...   \n",
       "9998  A0A0F3ITW8_9PROT  LRTGWTTGACATAATRAAFEGLITGEAPDPVTITLAGGQTPAFALA...   \n",
       "9999  A0A084WHM8_ANOSI  MKKAEGFALGCLEQHKSLNKEHLLLLKDGDFSKVDADTKCFLRCFL...   \n",
       "\n",
       "     prot_Pfam  \n",
       "0      PF17482  \n",
       "1      PF02665  \n",
       "2      PF01888  \n",
       "3      PF04749  \n",
       "4      PF00639  \n",
       "...        ...  \n",
       "9995   PF04749  \n",
       "9996   PF07819  \n",
       "9997   PF07819  \n",
       "9998   PF01888  \n",
       "9999   PF01395  \n",
       "\n",
       "[10000 rows x 3 columns]"
      ]
     },
     "execution_count": 3,
     "metadata": {},
     "output_type": "execute_result"
    }
   ],
   "source": [
    "import pandas as pd\n",
    "\n",
    "pd.read_csv('Klasifikacija-proteina.csv')"
   ]
  }
 ],
 "metadata": {
  "interpreter": {
   "hash": "be30d7ba78df9e1338a9a5c7353732e2e99c7add6cab659baba69b94edfd15ff"
  },
  "kernelspec": {
   "display_name": "Python 3.8.10 ('venv': venv)",
   "language": "python",
   "name": "python3"
  },
  "language_info": {
   "codemirror_mode": {
    "name": "ipython",
    "version": 3
   },
   "file_extension": ".py",
   "mimetype": "text/x-python",
   "name": "python",
   "nbconvert_exporter": "python",
   "pygments_lexer": "ipython3",
   "version": "3.8.10"
  },
  "orig_nbformat": 4
 },
 "nbformat": 4,
 "nbformat_minor": 2
}
